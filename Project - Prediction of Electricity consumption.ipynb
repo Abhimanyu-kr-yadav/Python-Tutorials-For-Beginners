{
 "cells": [
  {
   "cell_type": "markdown",
   "metadata": {},
   "source": [
    "# Prediction of Electricity Consumption"
   ]
  },
  {
   "cell_type": "code",
   "execution_count": 1,
   "metadata": {},
   "outputs": [],
   "source": [
    "#import required libraries\n",
    "import numpy as np\n",
    "import pandas as pd"
   ]
  },
  {
   "cell_type": "code",
   "execution_count": 2,
   "metadata": {},
   "outputs": [
    {
     "name": "stderr",
     "output_type": "stream",
     "text": [
      "C:\\Users\\abc\\anaconda3\\lib\\site-packages\\IPython\\core\\interactiveshell.py:3146: DtypeWarning: Columns (17) have mixed types.Specify dtype option on import or set low_memory=False.\n",
      "  has_raised = await self.run_ast_nodes(code_ast.body, cell_name,\n"
     ]
    },
    {
     "name": "stdout",
     "output_type": "stream",
     "text": [
      "       Development Name   Borough     Account Name Location Meter AMR  \\\n",
      "0                 ADAMS     BRONX            ADAMS   BLD 05      NONE   \n",
      "1                 ADAMS     BRONX            ADAMS   BLD 05      NONE   \n",
      "2                 ADAMS     BRONX            ADAMS   BLD 05      NONE   \n",
      "3                 ADAMS     BRONX            ADAMS   BLD 05      NONE   \n",
      "4                 ADAMS     BRONX            ADAMS   BLD 05      NONE   \n",
      "...                 ...       ...              ...      ...       ...   \n",
      "362625  WYCKOFF GARDENS  BROOKLYN  WYCKOFF GARDENS   BLD 02  INTERVAL   \n",
      "362626  WYCKOFF GARDENS  BROOKLYN  WYCKOFF GARDENS   BLD 03  INTERVAL   \n",
      "362627  WYCKOFF GARDENS  BROOKLYN  WYCKOFF GARDENS   BLD 03       AMR   \n",
      "362628  WYCKOFF GARDENS  BROOKLYN  WYCKOFF GARDENS   BLD 02       AMR   \n",
      "362629  WYCKOFF GARDENS  BROOKLYN  WYCKOFF GARDENS   BLD 03       AMR   \n",
      "\n",
      "         Meter Scope  TDS #  EDP  RC Code Funding Source  ... Meter Number  \\\n",
      "0       BLD 01 to 07  118.0  248  B011800        FEDERAL  ...      7223256   \n",
      "1       BLD 01 to 07  118.0  248  B011800        FEDERAL  ...      7223256   \n",
      "2       BLD 01 to 07  118.0  248  B011800        FEDERAL  ...      7223256   \n",
      "3       BLD 01 to 07  118.0  248  B011800        FEDERAL  ...      7223256   \n",
      "4       BLD 01 to 07  118.0  248  B011800        FEDERAL  ...      7223256   \n",
      "...              ...    ...  ...      ...            ...  ...          ...   \n",
      "362625           NaN  163.0  272  K016300        FEDERAL  ...      1096666   \n",
      "362626           NaN  163.0  272  K016300        FEDERAL  ...      1096667   \n",
      "362627           NaN  163.0  272  K016300        FEDERAL  ...      8096664   \n",
      "362628           NaN  163.0  272  K016300        FEDERAL  ...      8096666   \n",
      "362629           NaN  163.0  272  K016300        FEDERAL  ...      8096667   \n",
      "\n",
      "       Estimated  Current Charges   Rate Class Bill Analyzed  \\\n",
      "0              N         15396.82  GOV/NYC/068           Yes   \n",
      "1              N         14556.34  GOV/NYC/068           Yes   \n",
      "2              N         13904.98  GOV/NYC/068           Yes   \n",
      "3              N         14764.04  GOV/NYC/068           Yes   \n",
      "4              N         13729.54  GOV/NYC/068           Yes   \n",
      "...          ...              ...          ...           ...   \n",
      "362625         N          3145.23  GOV/NYC/068           Yes   \n",
      "362626         N          4059.16  GOV/NYC/068           Yes   \n",
      "362627         Y         10752.24  GOV/NYC/068           Yes   \n",
      "362628         Y          6759.68  GOV/NYC/068           Yes   \n",
      "362629         Y          7609.58  GOV/NYC/068           Yes   \n",
      "\n",
      "       Consumption (KWH)  KWH Charges Consumption (KW) KW Charges  \\\n",
      "0                 128800      7387.97           216.00    2808.00   \n",
      "1                 115200      6607.87           224.00    2912.00   \n",
      "2                 103200      5919.55           216.00    2808.00   \n",
      "3                 105600      6057.22           208.00    2704.00   \n",
      "4                  97600      5598.34           216.00    2808.00   \n",
      "...                  ...          ...              ...        ...   \n",
      "362625                 0         0.00           109.44    1177.57   \n",
      "362626                 0         0.00           141.24    1519.74   \n",
      "362627            108800      4025.60             0.00       0.00   \n",
      "362628             68400      2530.80             0.00       0.00   \n",
      "362629             77000      2849.00             0.00       0.00   \n",
      "\n",
      "        Other charges  \n",
      "0             5200.85  \n",
      "1             5036.47  \n",
      "2             5177.43  \n",
      "3             6002.82  \n",
      "4             5323.20  \n",
      "...               ...  \n",
      "362625        1967.66  \n",
      "362626        2539.42  \n",
      "362627        6726.64  \n",
      "362628        4228.88  \n",
      "362629        4760.58  \n",
      "\n",
      "[362630 rows x 27 columns]\n"
     ]
    }
   ],
   "source": [
    "#Load dataset\n",
    "df = pd.read_csv(\"E:\\\\4th Semester\\\\Machine Learning Using Python\\\\Project\\\\Electric_Consumption.csv\")\n",
    "print(df)"
   ]
  },
  {
   "cell_type": "code",
   "execution_count": 4,
   "metadata": {},
   "outputs": [
    {
     "name": "stdout",
     "output_type": "stream",
     "text": [
      "Index(['Development Name', 'Borough', 'Account Name', 'Location', 'Meter AMR',\n",
      "       'Meter Scope', 'TDS #', 'EDP', 'RC Code', 'Funding Source', 'AMP #',\n",
      "       'Vendor Name', 'UMIS BILL ID', 'Revenue Month', 'Service Start Date',\n",
      "       'Service End Date', '# days', 'Meter Number', 'Estimated',\n",
      "       'Current Charges', 'Rate Class', 'Bill Analyzed', 'Consumption (KWH)',\n",
      "       'KWH Charges', 'Consumption (KW)', 'KW Charges', 'Other charges'],\n",
      "      dtype='object')\n"
     ]
    }
   ],
   "source": [
    "print(df.columns)"
   ]
  },
  {
   "cell_type": "code",
   "execution_count": 6,
   "metadata": {},
   "outputs": [
    {
     "name": "stdout",
     "output_type": "stream",
     "text": [
      "(362630, 27)\n"
     ]
    }
   ],
   "source": [
    "print(df.shape)"
   ]
  },
  {
   "cell_type": "code",
   "execution_count": 7,
   "metadata": {},
   "outputs": [
    {
     "data": {
      "text/plain": [
       "Consumption (KW)\n",
       "0.00         148020\n",
       "0.02              3\n",
       "0.03              6\n",
       "0.04              1\n",
       "0.05              2\n",
       "              ...  \n",
       "5108.00           1\n",
       "8138.90           1\n",
       "16135.46          1\n",
       "115830.00         2\n",
       "329074.00         1\n",
       "Length: 11630, dtype: int64"
      ]
     },
     "execution_count": 7,
     "metadata": {},
     "output_type": "execute_result"
    }
   ],
   "source": [
    "#find the number of instances\n",
    "df.groupby(\"Consumption (KW)\").size()"
   ]
  },
  {
   "cell_type": "code",
   "execution_count": 10,
   "metadata": {},
   "outputs": [],
   "source": [
    "#Identify the fature vector or independent variables and Target vector or dependent variable\n",
    "feature_columns=['Development Name', 'Borough', 'Account Name', 'Location', 'Meter AMR',\n",
    "       'Meter Scope', 'TDS #', 'EDP', 'RC Code', 'Funding Source', 'AMP #',\n",
    "       'Vendor Name', 'UMIS BILL ID', 'Revenue Month', 'Service Start Date',\n",
    "       'Service End Date', '# days', 'Meter Number', 'Estimated',\n",
    "       'Current Charges', 'Rate Class', 'Bill Analyzed', 'Consumption (KWH)',\n",
    "       'KWH Charges', 'Consumption (KW)', 'KW Charges', 'Other charges']\n",
    "x=df[feature_columns]"
   ]
  },
  {
   "cell_type": "code",
   "execution_count": 11,
   "metadata": {},
   "outputs": [
    {
     "ename": "NameError",
     "evalue": "name 'y' is not defined",
     "output_type": "error",
     "traceback": [
      "\u001b[1;31m---------------------------------------------------------------------------\u001b[0m",
      "\u001b[1;31mNameError\u001b[0m                                 Traceback (most recent call last)",
      "\u001b[1;32m<ipython-input-11-27f9ea66591c>\u001b[0m in \u001b[0;36m<module>\u001b[1;34m\u001b[0m\n\u001b[0;32m      2\u001b[0m \u001b[1;32mfrom\u001b[0m \u001b[0msklearn\u001b[0m\u001b[1;33m.\u001b[0m\u001b[0mpreprocessing\u001b[0m \u001b[1;32mimport\u001b[0m \u001b[0mLabelEncoder\u001b[0m\u001b[1;33m\u001b[0m\u001b[1;33m\u001b[0m\u001b[0m\n\u001b[0;32m      3\u001b[0m \u001b[0mle\u001b[0m\u001b[1;33m=\u001b[0m\u001b[0mLabelEncoder\u001b[0m\u001b[1;33m(\u001b[0m\u001b[1;33m)\u001b[0m\u001b[1;33m\u001b[0m\u001b[1;33m\u001b[0m\u001b[0m\n\u001b[1;32m----> 4\u001b[1;33m \u001b[0my\u001b[0m \u001b[1;33m=\u001b[0m \u001b[0mle\u001b[0m\u001b[1;33m.\u001b[0m\u001b[0mfit_transform\u001b[0m\u001b[1;33m(\u001b[0m\u001b[0my\u001b[0m\u001b[1;33m)\u001b[0m\u001b[1;33m\u001b[0m\u001b[1;33m\u001b[0m\u001b[0m\n\u001b[0m\u001b[0;32m      5\u001b[0m \u001b[0mprint\u001b[0m\u001b[1;33m(\u001b[0m\u001b[0my\u001b[0m\u001b[1;33m)\u001b[0m\u001b[1;33m\u001b[0m\u001b[1;33m\u001b[0m\u001b[0m\n",
      "\u001b[1;31mNameError\u001b[0m: name 'y' is not defined"
     ]
    }
   ],
   "source": [
    "#Label Encoding\n",
    "from sklearn.preprocessing import LabelEncoder\n",
    "le=LabelEncoder()\n",
    "y = le.fit_transform(y)\n",
    "print(y)"
   ]
  }
 ],
 "metadata": {
  "kernelspec": {
   "display_name": "Python 3",
   "language": "python",
   "name": "python3"
  },
  "language_info": {
   "codemirror_mode": {
    "name": "ipython",
    "version": 3
   },
   "file_extension": ".py",
   "mimetype": "text/x-python",
   "name": "python",
   "nbconvert_exporter": "python",
   "pygments_lexer": "ipython3",
   "version": "3.8.5"
  }
 },
 "nbformat": 4,
 "nbformat_minor": 4
}
